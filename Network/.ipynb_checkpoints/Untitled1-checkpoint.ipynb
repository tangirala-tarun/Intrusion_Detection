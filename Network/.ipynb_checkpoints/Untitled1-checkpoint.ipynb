{
 "cells": [
  {
   "cell_type": "code",
   "execution_count": 1,
   "id": "60c88c73",
   "metadata": {},
   "outputs": [],
   "source": [
    "import pandas as pd\n",
    "import numpy as np\n",
    "from sklearn.model_selection import train_test_split\n",
    "from sklearn.naive_bayes import GaussianNB, MultinomialNB\n",
    "from sklearn import metrics\n",
    "from sklearn.metrics import confusion_matrix, accuracy_score, precision_score, recall_score, f1_score\n",
    "from sklearn import preprocessing\n",
    "from sklearn.ensemble import RandomForestClassifier\n",
    "import xgboost as xgb\n",
    "from sklearn.neural_network import MLPClassifier\n",
    "import pandas_profiling as pp\n",
    "from sklearn.ensemble import AdaBoostClassifier\n",
    "from sklearn.metrics import precision_recall_curve\n",
    "import matplotlib.pyplot as plt\n",
    "from sklearn.tree import DecisionTreeClassifier\n",
    "from sklearn.neighbors import KNeighborsClassifier\n",
    "from sklearn.discriminant_analysis import QuadraticDiscriminantAnalysis"
   ]
  },
  {
   "cell_type": "code",
   "execution_count": 2,
   "id": "0c10f043",
   "metadata": {},
   "outputs": [],
   "source": [
    "df=pd.read_csv(r\"D:\\Datasets\\Train_test_network\\Train_Test_Network.csv\")"
   ]
  },
  {
   "cell_type": "code",
   "execution_count": 3,
   "id": "338a539e",
   "metadata": {},
   "outputs": [],
   "source": [
    "df.drop(['ts','dns_AA','dns_RD','dns_RA','dns_rejected','service','dns_query','ssl_version','ssl_cipher','ssl_resumed','ssl_established','ssl_subject','ssl_issuer',\n",
    "         'http_trans_depth','http_method','http_uri','http_version','http_request_body_len','http_response_body_len','duration'\n",
    "            ,'http_status_code','http_user_agent','http_orig_mime_types','http_resp_mime_types','weird_name','weird_addl','weird_notice','type'],axis=1,inplace=True)\n",
    "label_encoder=preprocessing.LabelEncoder()\n",
    "#df['type']=label_encoder.fit_transform(df['type'])\n",
    "df['src_ip']=label_encoder.fit_transform(df['src_ip'])\n",
    "df['dst_ip']=label_encoder.fit_transform(df['dst_ip'])\n",
    "df['proto']=label_encoder.fit_transform(df['proto'])\n",
    "df['conn_state']=label_encoder.fit_transform(df['conn_state'])\n",
    "x=df.loc[:,['src_port','dst_port','proto','src_bytes','dst_bytes','missed_bytes','src_pkts','src_ip_bytes','dst_pkts','dst_ip_bytes','dns_qclass','dns_qtype','dns_rcode']]\n",
    "y=df.loc[:,['label']] # target\n",
    "\n",
    "# splitting thee dataset into training and testing sets\n",
    "x_train,x_test,y_train,y_test=train_test_split(x,y,random_state=42,test_size=0.30)"
   ]
  },
  {
   "cell_type": "code",
   "execution_count": 4,
   "id": "577f2dc2",
   "metadata": {},
   "outputs": [
    {
     "name": "stdout",
     "output_type": "stream",
     "text": [
      "Accuracy:  0.6504016252991404\n",
      "Recall:  0.6504016252991404\n",
      "F1score:  0.5130344134583688\n"
     ]
    }
   ],
   "source": [
    "gnb=GaussianNB()\n",
    "model=gnb.fit(x_train,y_train.values.ravel())\n",
    "y_pred=model.predict(x_test)\n",
    "\n",
    "print(\"Accuracy: \",accuracy_score(y_test,y_pred))\n",
    "#print([y_test, y_pred])\n",
    "\n",
    "#print(\"Precision: \",precision_score(y_test,y_pred,average='weighted'))\n",
    "print(\"Recall: \",recall_score(y_test,y_pred,average='weighted'))\n",
    "print(\"F1score: \",f1_score(y_test,y_pred,average='weighted'))\n",
    "\n",
    "gprecision, grecall, thresholds = precision_recall_curve(y_test, y_pred)\n",
    "\n",
    "# fig, ax = plt.subplots()\n",
    "# ax.plot(recall, precision, color='purple')\n",
    "\n",
    "# #add axis labels to plot\n",
    "# ax.set_title('Precision-Recall Curve')\n",
    "# ax.set_ylabel('Precision')\n",
    "# ax.set_xlabel('Recall')\n",
    "\n",
    "# #display plot\n",
    "# # plt.show()\n",
    "# plt.savefig('network_gaussian.jpg', bbox_inches='tight', facecolor='white')"
   ]
  },
  {
   "cell_type": "code",
   "execution_count": 5,
   "id": "959ebfb7",
   "metadata": {},
   "outputs": [
    {
     "name": "stdout",
     "output_type": "stream",
     "text": [
      "Accuracy:  0.6503654754072286\n",
      "Recall:  0.6503654754072286\n",
      "F1 score:  0.5130567497625557\n"
     ]
    }
   ],
   "source": [
    "mnb=MultinomialNB()\n",
    "mnb.fit(x_train,y_train.values.ravel())\n",
    "y_pred=mnb.predict(x_test)\n",
    "print(\"Accuracy: \",accuracy_score(y_test,y_pred))\n",
    "print(\"Recall: \",recall_score(y_test,y_pred,average=\"weighted\"))\n",
    "print(\"F1 score: \",f1_score(y_test,y_pred,average=\"weighted\"))\n",
    "\n",
    "mprecision, mrecall, thresholds = precision_recall_curve(y_test, y_pred)\n",
    "\n",
    "# fig, ax = plt.subplots()\n",
    "# ax.plot(recall, precision, color='purple')\n",
    "\n",
    "# #add axis labels to plot\n",
    "# ax.set_title('Precision-Recall Curve')\n",
    "# ax.set_ylabel('Precision')\n",
    "# ax.set_xlabel('Recall')\n",
    "\n",
    "# #display plot\n",
    "# # plt.show()\n",
    "# plt.savefig('network_multinomial.jpg', bbox_inches='tight', facecolor='white')"
   ]
  },
  {
   "cell_type": "code",
   "execution_count": 4,
   "id": "1c6ddec8",
   "metadata": {},
   "outputs": [],
   "source": [
    "rfc=RandomForestClassifier(n_estimators=100, random_state=42, max_depth=10)\n",
    "rfc.fit(x_train,y_train.values.ravel())\n",
    "# y_pred=rfc.predict(x_test)\n",
    "# # print(y_test)\n",
    "# # print(y_pred)\n",
    "# print(\"Accuracy: \",accuracy_score(y_test,y_pred))\n",
    "# #print(\"Precision: \",precision_score(y_test,y_pred,average='weighted'))\n",
    "# print(\"Recall: \",recall_score(y_test,y_pred,average='weighted'))\n",
    "# print(\"F1score: \",f1_score(y_test,y_pred,average='weighted'))\n",
    "\n",
    "y_pred_random=rfc.predict(x_test)\n",
    "y_score_random = rfc.predict_proba(x_test)[:, 1]\n",
    "\n",
    "# rprecision, rrecall, thresholds = precision_recall_curve(y_test, y_pred)\n",
    "\n",
    "# # fig, ax = plt.subplots()\n",
    "# # ax.plot(recall, precision, color='purple')\n",
    "\n",
    "# # #add axis labels to plot\n",
    "# # ax.set_title('Precision-Recall Curve')\n",
    "# # ax.set_ylabel('Precision')\n",
    "# # ax.set_xlabel('Recall')\n",
    "\n",
    "# # #display plot\n",
    "# # # plt.show()\n",
    "# # plt.savefig('network_random.jpg', bbox_inches='tight', facecolor='white')"
   ]
  },
  {
   "cell_type": "code",
   "execution_count": 5,
   "id": "6f36d905",
   "metadata": {},
   "outputs": [],
   "source": [
    "xgb_classifier=xgb.XGBClassifier(n_estimators=100, random_state=42, max_depth=10)\n",
    "xgb_classifier.fit(x_train,y_train.values.ravel())\n",
    "# y_pred=xgb_classifier.predict(x_test)\n",
    "\n",
    "# print(\"Accuracy: \",accuracy_score(y_test,y_pred))\n",
    "# #print(\"Precision: \",precision_score(y_test,y_pred,average='weighted'))\n",
    "# print(\"Recall: \",recall_score(y_test,y_pred,average='weighted'))\n",
    "# print(\"F1score: \",f1_score(y_test,y_pred,average='weighted'))\n",
    "\n",
    "# xprecision, xrecall, thresholds = precision_recall_curve(y_test, y_pred)\n",
    "\n",
    "y_pred_xgb=xgb_classifier.predict(x_test)\n",
    "y_score_xgb = xgb_classifier.predict_proba(x_test)[:, 1]\n",
    "\n",
    "# # fig, ax = plt.subplots()\n",
    "# # ax.plot(recall, precision, color='purple')\n",
    "\n",
    "# # #add axis labels to plot\n",
    "# # ax.set_title('Precision-Recall Curve')\n",
    "# # ax.set_ylabel('Precision')\n",
    "# # ax.set_xlabel('Recall')\n",
    "\n",
    "# # #display plot\n",
    "# # # plt.show()\n",
    "# # plt.savefig('network_xgb.jpg', bbox_inches='tight', facecolor='white')"
   ]
  },
  {
   "cell_type": "code",
   "execution_count": 6,
   "id": "41abd3d4",
   "metadata": {},
   "outputs": [],
   "source": [
    "model = MLPClassifier(max_iter=100, random_state=42)\n",
    "model.fit(x_train, y_train.values.ravel())\n",
    "# y_pred=model.predict(x_test)\n",
    "\n",
    "# print(\"Accuracy: \",accuracy_score(y_test,y_pred))\n",
    "# #print(\"Precision: \",precision_score(y_test,y_pred,average='weighted'))\n",
    "# print(\"Recall: \",recall_score(y_test,y_pred,average='weighted'))\n",
    "# print(\"F1score: \",f1_score(y_test,y_pred,average='weighted'))\n",
    "\n",
    "# mlprecision, mlrecall, thresholds = precision_recall_curve(y_test, y_pred)\n",
    "\n",
    "y_pred_mlp=model.predict(x_test)\n",
    "y_score_mlp = model.predict_proba(x_test)[:, 1]\n",
    "\n",
    "# # fig, ax = plt.subplots()\n",
    "# # ax.plot(recall, precision, color='purple')\n",
    "\n",
    "\n",
    "# # #add axis labels to plot\n",
    "# # ax.set_title('Precision-Recall Curve')\n",
    "# # ax.set_ylabel('Precision')\n",
    "# # ax.set_xlabel('Recall')\n",
    "\n",
    "# # #display plot\n",
    "# # # plt.show()\n",
    "# # plt.savefig('network_mlp.jpg', bbox_inches='tight', facecolor='white')"
   ]
  },
  {
   "cell_type": "code",
   "execution_count": 7,
   "id": "cdc73a75",
   "metadata": {},
   "outputs": [],
   "source": [
    "abc = AdaBoostClassifier(n_estimators=100, learning_rate=1, random_state=42)\n",
    "# Train Adaboost Classifer\n",
    "abc.fit(x_train, y_train.values.ravel())\n",
    "#Predict the response for test dataset\n",
    "# y_pred = model1.predict(x_test)\n",
    "\n",
    "# print(\"Accuracy: \",accuracy_score(y_test,y_pred))\n",
    "# #print(\"Precision: \",precision_score(y_test,y_pred,average='weighted'))\n",
    "# print(\"Recall: \",recall_score(y_test,y_pred,average='weighted'))\n",
    "# print(\"F1score: \",f1_score(y_test,y_pred,average='weighted'))\n",
    "\n",
    "# aprecision, arecall, thresholds = precision_recall_curve(y_test, y_pred)\n",
    "\n",
    "y_pred_abc=abc.predict(x_test)\n",
    "y_score_abc = abc.predict_proba(x_test)[:, 1]\n",
    "\n",
    "# # fig, ax = plt.subplots()\n",
    "# # ax.plot(recall, precision, color='purple')\n",
    "\n",
    "# # #add axis labels to plot\n",
    "# # ax.set_title('Precision-Recall Curve')\n",
    "# # ax.set_ylabel('Precision')\n",
    "# # ax.set_xlabel('Recall')\n",
    "\n",
    "# # #display plot\n",
    "# # # plt.show()\n",
    "# # plt.savefig('network_adaboost.jpg', bbox_inches='tight', facecolor='white')"
   ]
  },
  {
   "cell_type": "code",
   "execution_count": 8,
   "id": "66f23b30",
   "metadata": {},
   "outputs": [],
   "source": [
    "clf=DecisionTreeClassifier()\n",
    "#Training a Decision Tree Classifer\n",
    "clf.fit(x_train,y_train.values.ravel())\n",
    "#Predicting the response for test dataset\n",
    "# y_pred=clf.predict(x_test)\n",
    "# # splitting thee dataset into training and testing sets\n",
    "# dprecision, drecall, thresholds = precision_recall_curve(y_test, y_pred)\n",
    "y_pred_decision=clf.predict(x_test)\n",
    "y_score_decision = clf.predict_proba(x_test)[:, 1]"
   ]
  },
  {
   "cell_type": "code",
   "execution_count": 9,
   "id": "476dccc3",
   "metadata": {},
   "outputs": [],
   "source": [
    "classifier = KNeighborsClassifier(n_neighbors=5, metric='minkowski', p=2 )\n",
    "classifier.fit(x_train,y_train.values.ravel())\n",
    "# y_pred=classifier.predict(x_test)\n",
    "# kprecision, krecall, thresholds = precision_recall_curve(y_test, y_pred)\n",
    "y_pred_knn=classifier.predict(x_test)\n",
    "y_score_knn = classifier.predict_proba(x_test)[:, 1]"
   ]
  },
  {
   "cell_type": "code",
   "execution_count": 12,
   "id": "1878e5ee",
   "metadata": {},
   "outputs": [],
   "source": [
    "clf=QuadraticDiscriminantAnalysis()\n",
    "clf.fit(x_train,y_train.values.ravel())\n",
    "y_pred=clf.predict(x_test)\n",
    "qprecision, qrecall, thresholds = precision_recall_curve(y_test, y_pred)"
   ]
  },
  {
   "cell_type": "code",
   "execution_count": 11,
   "id": "501e8f11",
   "metadata": {},
   "outputs": [
    {
     "data": {
      "image/png": "[encoded data removed]",
      "text/plain": [
       "<Figure size 432x288 with 1 Axes>"
      ]
     },
     "metadata": {
      "needs_background": "light"
     },
     "output_type": "display_data"
    }
   ],
   "source": [
    "plt.xlabel(\"Precision\")\n",
    "plt.ylabel(\"Recall\")\n",
    "plt.plot(grecall,gprecision,label='guassian')\n",
    "# plt.plot(mrecall,mprecision,label='multinomial')\n",
    "plt.plot(rrecall,rprecision,label='random_forest')\n",
    "plt.plot(xrecall,xprecision,label='xg_boost')\n",
    "plt.plot(mlrecall,mlprecision,label='mlp')\n",
    "# plt.plot(arecall,aprecision,label='ada_boost')\n",
    "plt.plot(drecall,dprecision,label='decision_tree')\n",
    "plt.plot(krecall,kprecision,label='kn')\n",
    "# plt.plot(qrecall,qprecision,label='quadratic')\n",
    "plt.legend()\n",
    "plt.show()"
   ]
  },
  {
   "cell_type": "code",
   "execution_count": 10,
   "id": "c3cca3fe",
   "metadata": {},
   "outputs": [
    {
     "data": {
      "image/png": "[encoded data removed]",
      "text/plain": [
       "<Figure size 432x288 with 1 Axes>"
      ]
     },
     "metadata": {
      "needs_background": "light"
     },
     "output_type": "display_data"
    }
   ],
   "source": [
    "precision1, recall1, _ = precision_recall_curve(y_test, y_pred_random)\n",
    "precision2, recall2, _ = precision_recall_curve(y_test, y_pred_xgb)\n",
    "precision3, recall3, _ = precision_recall_curve(y_test, y_pred_mlp)\n",
    "precision4, recall4, _ = precision_recall_curve(y_test, y_pred_decision)\n",
    "precision5, recall5, _ = precision_recall_curve(y_test, y_pred_knn)\n",
    "precision6, recall6, _ = precision_recall_curve(y_test, y_pred_abc)\n",
    "\n",
    "plt.plot(recall1, precision1, label='Random Forest')\n",
    "plt.plot(recall2, precision2, label='Xgboost')\n",
    "plt.plot(recall3, precision3, label='MLP')\n",
    "plt.plot(recall4, precision4, label='Decision Tree')\n",
    "plt.plot(recall2, precision2, label='KNN')\n",
    "plt.plot(recall3, precision3, label='AdaBoost')\n",
    "plt.title(\"NETWORK\")\n",
    "plt.xlabel('Recall')\n",
    "plt.ylabel('Precision')\n",
    "plt.legend()\n",
    "plt.show()"
   ]
  },
  {
   "cell_type": "code",
   "execution_count": 13,
   "id": "d96ededd",
   "metadata": {},
   "outputs": [
    {
     "data": {
      "image/png": "[encoded data removed]",
      "text/plain": [
       "<Figure size 432x288 with 1 Axes>"
      ]
     },
     "metadata": {
      "needs_background": "light"
     },
     "output_type": "display_data"
    }
   ],
   "source": [
    "precision1, recall1, _ = precision_recall_curve(y_test, y_score_random)\n",
    "precision2, recall2, _ = precision_recall_curve(y_test, y_score_xgb)\n",
    "precision3, recall3, _ = precision_recall_curve(y_test, y_score_mlp)\n",
    "precision4, recall4, _ = precision_recall_curve(y_test, y_score_decision)\n",
    "precision5, recall5, _ = precision_recall_curve(y_test, y_score_knn)\n",
    "precision6, recall6, _ = precision_recall_curve(y_test, y_score_abc)\n",
    "\n",
    "plt.plot(recall1, precision1, label='Random Forest')\n",
    "plt.plot(recall2, precision2, label='Xgboost')\n",
    "plt.plot(recall3, precision3, label='MLP Classifier')\n",
    "plt.plot(recall4, precision4, label='Decision Tree Classifier')\n",
    "plt.plot(recall2, precision2, label='KNN')\n",
    "plt.plot(recall3, precision3, label='AdaBoost Classifier')\n",
    "plt.title(\"NETWORK\")\n",
    "plt.xlabel('Recall')\n",
    "plt.ylabel('Precision')\n",
    "plt.legend()\n",
    "plt.show()"
   ]
  },
  {
   "cell_type": "code",
   "execution_count": null,
   "id": "05781968",
   "metadata": {},
   "outputs": [],
   "source": []
  }
 ],
 "metadata": {
  "kernelspec": {
   "display_name": "Python 3 (ipykernel)",
   "language": "python",
   "name": "python3"
  },
  "language_info": {
   "codemirror_mode": {
    "name": "ipython",
    "version": 3
   },
   "file_extension": ".py",
   "mimetype": "text/x-python",
   "name": "python",
   "nbconvert_exporter": "python",
   "pygments_lexer": "ipython3",
   "version": "3.9.12"
  }
 },
 "nbformat": 4,
 "nbformat_minor": 5
}
