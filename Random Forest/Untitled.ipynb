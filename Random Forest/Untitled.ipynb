{
 "cells": [
  {
   "cell_type": "code",
   "execution_count": 1,
   "id": "bafd70ea",
   "metadata": {},
   "outputs": [],
   "source": [
    "# Importing the necessary libraries required\n",
    "\n",
    "import pandas as pd\n",
    "import numpy as np\n",
    "from sklearn.model_selection import train_test_split\n",
    "from sklearn import preprocessing\n",
    "from sklearn.ensemble import RandomForestClassifier\n",
    "from sklearn.metrics import confusion_matrix, accuracy_score, precision_score, recall_score, f1_score"
   ]
  },
  {
   "cell_type": "code",
   "execution_count": 2,
   "id": "5eff57b5",
   "metadata": {},
   "outputs": [
    {
     "name": "stdout",
     "output_type": "stream",
     "text": [
      "\n",
      "\n",
      "\n"
     ]
    }
   ],
   "source": [
    "# reading the dataset from the specified path into a datafraame\n",
    "df=pd.read_csv(r\"C:\\Users\\bindu\\Downloads\\IoT_Fridge.csv\")\n",
    "\n",
    "#print(df.info()) # printing the information about the dataframe\n",
    "print(2*\"\\n\")\n",
    "\n",
    "#print(df.head(5)) # printing the starting 5 rows\n",
    "\n",
    "# dropping the unnecessary columns in the same dataframe itself\n",
    "df.drop(['date','time','label'],axis=1,inplace=True)\n",
    "#print(2*\"\\n\")\n",
    "#print(df.head(5))\n",
    "\n",
    "# removing the extra space of the elements in temp_condition\n",
    "df['temp_condition']=df['temp_condition'].str.replace(\" \",\"\")\n",
    "\n",
    "# converting the lables into the numeric format\n",
    "label_encoder=preprocessing.LabelEncoder()\n",
    "df['temp_condition']= label_encoder.fit_transform(df['temp_condition'])\n",
    "df['type']= label_encoder.fit_transform(df['type'])\n",
    "#print(2*\"\\n\")\n",
    "#print(df.head(5))\n",
    "# for i in df['type'].unique():\n",
    "#     print(str(i)+\" : \"+label_encoder.inverse_transform([i]),end=' ')"
   ]
  },
  {
   "cell_type": "code",
   "execution_count": 3,
   "id": "c288f127",
   "metadata": {},
   "outputs": [],
   "source": [
    "x=df.loc[:,['fridge_temperature','temp_condition']] # input\n",
    "y=df.loc[:,['type']] # target\n",
    "\n",
    "# splitting thee dataset into training and testing sets\n",
    "x_train,x_test,y_train,y_test=train_test_split(x,y,random_state=42,test_size=0.30)\n",
    "\n",
    "# creating randomforestclassifier model\n",
    "rfc=RandomForestClassifier(n_estimators=300, random_state=42, max_depth=10)\n",
    "rfc.fit(x_train,y_train.values.ravel())\n",
    "y_pred=rfc.predict(x_test)"
   ]
  },
  {
   "cell_type": "code",
   "execution_count": 4,
   "id": "42728f84",
   "metadata": {},
   "outputs": [
    {
     "name": "stdout",
     "output_type": "stream",
     "text": [
      "Accuracy:  0.8521033595839271\n"
     ]
    },
    {
     "name": "stderr",
     "output_type": "stream",
     "text": [
      "C:\\Users\\bindu\\anaconda3\\lib\\site-packages\\sklearn\\metrics\\_classification.py:1334: UndefinedMetricWarning: Precision is ill-defined and being set to 0.0 in labels with no predicted samples. Use `zero_division` parameter to control this behavior.\n",
      "  _warn_prf(average, modifier, msg_start, len(result))\n"
     ]
    },
    {
     "name": "stdout",
     "output_type": "stream",
     "text": [
      "Precision:  0.7260801354142155\n",
      "Recall:  0.8521033595839271\n",
      "F1score:  0.7840600597769323\n"
     ]
    }
   ],
   "source": [
    "print(\"Accuracy: \",accuracy_score(y_test,y_pred))\n",
    "print(\"Precision: \",precision_score(y_test,y_pred,average='weighted'))\n",
    "print(\"Recall: \",recall_score(y_test,y_pred,average='weighted'))\n",
    "print(\"F1score: \",f1_score(y_test,y_pred,average='weighted'))"
   ]
  },
  {
   "cell_type": "code",
   "execution_count": null,
   "id": "9c83a9a9",
   "metadata": {},
   "outputs": [],
   "source": []
  }
 ],
 "metadata": {
  "kernelspec": {
   "display_name": "Python 3 (ipykernel)",
   "language": "python",
   "name": "python3"
  },
  "language_info": {
   "codemirror_mode": {
    "name": "ipython",
    "version": 3
   },
   "file_extension": ".py",
   "mimetype": "text/x-python",
   "name": "python",
   "nbconvert_exporter": "python",
   "pygments_lexer": "ipython3",
   "version": "3.9.12"
  }
 },
 "nbformat": 4,
 "nbformat_minor": 5
}
