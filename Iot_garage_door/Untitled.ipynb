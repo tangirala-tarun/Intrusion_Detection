{
 "cells": [
  {
   "cell_type": "code",
   "execution_count": 11,
   "id": "6409a5b1",
   "metadata": {},
   "outputs": [],
   "source": [
    "import pandas as pd\n",
    "import numpy as np\n",
    "from sklearn.model_selection import train_test_split\n",
    "from sklearn.naive_bayes import GaussianNB, MultinomialNB\n",
    "from sklearn import metrics\n",
    "from sklearn.metrics import confusion_matrix, accuracy_score, precision_score, recall_score, f1_score\n",
    "from sklearn import preprocessing\n",
    "from sklearn.ensemble import RandomForestClassifier\n",
    "import xgboost as xgb\n",
    "from sklearn.neural_network import MLPClassifier\n",
    "from sklearn.ensemble import AdaBoostClassifier\n",
    "from sklearn.svm import SVC\n",
    "import pandas_profiling as pp"
   ]
  },
  {
   "cell_type": "code",
   "execution_count": 12,
   "id": "1baf1b45",
   "metadata": {},
   "outputs": [
    {
     "data": {
      "application/vnd.jupyter.widget-view+json": {
       "model_id": "04b5466ca36240209471104fde10b26c",
       "version_major": 2,
       "version_minor": 0
      },
      "text/plain": [
       "Summarize dataset:   0%|          | 0/5 [00:00<?, ?it/s]"
      ]
     },
     "metadata": {},
     "output_type": "display_data"
    },
    {
     "data": {
      "application/vnd.jupyter.widget-view+json": {
       "model_id": "bd27dd08862647698c9b8094bf756f45",
       "version_major": 2,
       "version_minor": 0
      },
      "text/plain": [
       "Generate report structure:   0%|          | 0/1 [00:00<?, ?it/s]"
      ]
     },
     "metadata": {},
     "output_type": "display_data"
    },
    {
     "data": {
      "application/vnd.jupyter.widget-view+json": {
       "model_id": "c61d5f8ac80347278051f6b7207dc305",
       "version_major": 2,
       "version_minor": 0
      },
      "text/plain": [
       "Render HTML:   0%|          | 0/1 [00:00<?, ?it/s]"
      ]
     },
     "metadata": {},
     "output_type": "display_data"
    },
    {
     "data": {
      "application/vnd.jupyter.widget-view+json": {
       "model_id": "63214f97d8c94b7faeb07dda99078cfb",
       "version_major": 2,
       "version_minor": 0
      },
      "text/plain": [
       "Export report to file:   0%|          | 0/1 [00:00<?, ?it/s]"
      ]
     },
     "metadata": {},
     "output_type": "display_data"
    }
   ],
   "source": [
    "df=pd.read_csv(r\"D:\\Datasets\\Train_test_iot\\Train_Test_IoT_Garage_Door.csv\")\n",
    "profile=pp.ProfileReport(df)\n",
    "profile.to_file(\"iot_garage.html\")\n",
    "\n",
    "df.drop(['ts','date','time','label'],axis=1,inplace=True)\n",
    "\n",
    "label_encoder=preprocessing.LabelEncoder()\n",
    "df['door_state']=label_encoder.fit_transform(df['door_state'])\n",
    "df['sphone_signal']=df['sphone_signal'].str.replace(\" \",\"\")\n",
    "df['sphone_signal']=label_encoder.fit_transform(df['sphone_signal'])\n",
    "df['type']=label_encoder.fit_transform(df['type'])"
   ]
  },
  {
   "cell_type": "code",
   "execution_count": 3,
   "id": "f19fcebb",
   "metadata": {},
   "outputs": [],
   "source": [
    "x=df.loc[:,['door_state','sphone_signal']] # input\n",
    "y=df.loc[:,['type']] # target\n",
    "\n",
    "# splitting thee dataset into training and testing sets\n",
    "x_train,x_test,y_train,y_test=train_test_split(x,y,random_state=42,test_size=0.30)"
   ]
  },
  {
   "cell_type": "code",
   "execution_count": 4,
   "id": "4993a4d7",
   "metadata": {},
   "outputs": [
    {
     "name": "stdout",
     "output_type": "stream",
     "text": [
      "Accuracy:  0.6684566761760922\n",
      "Recall:  0.6684566761760922\n",
      "F1score:  0.623838693521325\n"
     ]
    }
   ],
   "source": [
    "gnb=GaussianNB()\n",
    "model=gnb.fit(x_train,y_train.values.ravel())\n",
    "y_pred=model.predict(x_test)\n",
    "\n",
    "print(\"Accuracy: \",accuracy_score(y_test,y_pred))\n",
    "print(\"Recall: \",recall_score(y_test,y_pred,average='weighted'))\n",
    "print(\"F1score: \",f1_score(y_test,y_pred,average='weighted'))"
   ]
  },
  {
   "cell_type": "code",
   "execution_count": 5,
   "id": "a0f871cb",
   "metadata": {},
   "outputs": [
    {
     "name": "stdout",
     "output_type": "stream",
     "text": [
      "Accuracy:  0.6684566761760922\n",
      "Recall:  0.6684566761760922\n",
      "F1score:  0.623838693521325\n"
     ]
    }
   ],
   "source": [
    "rfc=RandomForestClassifier(n_estimators=100, random_state=42, max_depth=10)\n",
    "rfc.fit(x_train,y_train.values.ravel())\n",
    "y_pred=rfc.predict(x_test)\n",
    "# print(y_test)\n",
    "# print(y_pred)\n",
    "print(\"Accuracy: \",accuracy_score(y_test,y_pred))\n",
    "#print(\"Precision: \",precision_score(y_test,y_pred,average='weighted'))\n",
    "print(\"Recall: \",recall_score(y_test,y_pred,average='weighted'))\n",
    "print(\"F1score: \",f1_score(y_test,y_pred,average='weighted'))"
   ]
  },
  {
   "cell_type": "code",
   "execution_count": 6,
   "id": "744cef7a",
   "metadata": {},
   "outputs": [
    {
     "name": "stdout",
     "output_type": "stream",
     "text": [
      "Accuracy:  0.6684566761760922\n",
      "Recall:  0.6684566761760922\n",
      "F1score:  0.623838693521325\n"
     ]
    }
   ],
   "source": [
    "xgb_classifier=xgb.XGBClassifier(n_estimators=100, random_state=42, max_depth=10)\n",
    "xgb_classifier.fit(x_train,y_train.values.ravel())\n",
    "y_pred=xgb_classifier.predict(x_test)\n",
    "\n",
    "print(\"Accuracy: \",accuracy_score(y_test,y_pred))\n",
    "print(\"Recall: \",recall_score(y_test,y_pred,average='weighted'))\n",
    "print(\"F1score: \",f1_score(y_test,y_pred,average='weighted'))"
   ]
  },
  {
   "cell_type": "code",
   "execution_count": 7,
   "id": "d7e81fd3",
   "metadata": {},
   "outputs": [
    {
     "name": "stdout",
     "output_type": "stream",
     "text": [
      "Accuracy:  0.6684566761760922\n",
      "Recall:  0.6684566761760922\n",
      "F1score:  0.623838693521325\n"
     ]
    }
   ],
   "source": [
    "model = MLPClassifier(max_iter=100, random_state=42)\n",
    "model.fit(x_train, y_train.values.ravel())\n",
    "y_pred=model.predict(x_test)\n",
    "\n",
    "print(\"Accuracy: \",accuracy_score(y_test,y_pred))\n",
    "print(\"Recall: \",recall_score(y_test,y_pred,average='weighted'))\n",
    "print(\"F1score: \",f1_score(y_test,y_pred,average='weighted'))"
   ]
  },
  {
   "cell_type": "code",
   "execution_count": 5,
   "id": "8c23137b",
   "metadata": {},
   "outputs": [
    {
     "name": "stdout",
     "output_type": "stream",
     "text": [
      "Accuracy:  0.08178105946187839\n",
      "Recall:  0.08178105946187839\n",
      "F1score:  0.03716307680711125\n"
     ]
    }
   ],
   "source": [
    "abc = AdaBoostClassifier(n_estimators=100, learning_rate=1, random_state=42)\n",
    "# Train Adaboost Classifer\n",
    "model1 = abc.fit(x_train, y_train.values.ravel())\n",
    "#Predict the response for test dataset\n",
    "y_pred = model1.predict(x_test)\n",
    "\n",
    "print(\"Accuracy: \",accuracy_score(y_test,y_pred))\n",
    "#print(\"Precision: \",precision_score(y_test,y_pred,average='weighted'))\n",
    "print(\"Recall: \",recall_score(y_test,y_pred,average='weighted'))\n",
    "print(\"F1score: \",f1_score(y_test,y_pred,average='weighted'))"
   ]
  },
  {
   "cell_type": "code",
   "execution_count": 4,
   "id": "2855f3a6",
   "metadata": {},
   "outputs": [
    {
     "name": "stdout",
     "output_type": "stream",
     "text": [
      "Accuracy:  0.5866756167142138\n",
      "Recall:  0.5866756167142138\n",
      "F1 score:  0.43384832491441383\n"
     ]
    }
   ],
   "source": [
    "mnb=MultinomialNB()\n",
    "mnb.fit(x_train,y_train.values.ravel())\n",
    "y_pred=mnb.predict(x_test)\n",
    "print(\"Accuracy: \",accuracy_score(y_test,y_pred))\n",
    "print(\"Recall: \",recall_score(y_test,y_pred,average=\"weighted\"))\n",
    "print(\"F1 score: \",f1_score(y_test,y_pred,average=\"weighted\"))"
   ]
  },
  {
   "cell_type": "code",
   "execution_count": null,
   "id": "e81e9487",
   "metadata": {},
   "outputs": [],
   "source": []
  }
 ],
 "metadata": {
  "kernelspec": {
   "display_name": "Python 3 (ipykernel)",
   "language": "python",
   "name": "python3"
  },
  "language_info": {
   "codemirror_mode": {
    "name": "ipython",
    "version": 3
   },
   "file_extension": ".py",
   "mimetype": "text/x-python",
   "name": "python",
   "nbconvert_exporter": "python",
   "pygments_lexer": "ipython3",
   "version": "3.9.12"
  }
 },
 "nbformat": 4,
 "nbformat_minor": 5
}
