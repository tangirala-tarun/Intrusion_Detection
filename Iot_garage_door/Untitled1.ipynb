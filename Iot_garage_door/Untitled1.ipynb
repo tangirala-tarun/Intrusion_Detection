{
 "cells": [
  {
   "cell_type": "code",
   "execution_count": 1,
   "id": "a1f03eee",
   "metadata": {},
   "outputs": [],
   "source": [
    "import pandas as pd\n",
    "import numpy as np\n",
    "from sklearn.model_selection import train_test_split\n",
    "from sklearn.naive_bayes import GaussianNB, MultinomialNB\n",
    "from sklearn import metrics\n",
    "from sklearn.metrics import confusion_matrix, accuracy_score, precision_score, recall_score, f1_score\n",
    "from sklearn import preprocessing\n",
    "from sklearn.ensemble import RandomForestClassifier\n",
    "import xgboost as xgb\n",
    "from sklearn.neural_network import MLPClassifier\n",
    "import pandas_profiling as pp\n",
    "from sklearn.ensemble import AdaBoostClassifier\n",
    "from sklearn.metrics import precision_recall_curve, plot_precision_recall_curve, PrecisionRecallDisplay\n",
    "import matplotlib.pyplot as plt\n",
    "from sklearn.tree import DecisionTreeClassifier\n",
    "from sklearn.neighbors import KNeighborsClassifier\n",
    "from sklearn.discriminant_analysis import QuadraticDiscriminantAnalysis"
   ]
  },
  {
   "cell_type": "code",
   "execution_count": 2,
   "id": "de0e913e",
   "metadata": {},
   "outputs": [],
   "source": [
    "df=pd.read_csv(r\"D:\\Datasets\\Train_test_iot\\Train_Test_IoT_Garage_Door.csv\")\n",
    "\n",
    "df.drop(['ts','date','time','type'],axis=1,inplace=True)\n",
    "\n",
    "label_encoder=preprocessing.LabelEncoder()\n",
    "df['door_state']=label_encoder.fit_transform(df['door_state'])\n",
    "df['sphone_signal']=df['sphone_signal'].str.replace(\" \",\"\")\n",
    "df['sphone_signal']=label_encoder.fit_transform(df['sphone_signal'])"
   ]
  },
  {
   "cell_type": "code",
   "execution_count": 3,
   "id": "57f90db8",
   "metadata": {},
   "outputs": [],
   "source": [
    "x=df.loc[:,['door_state','sphone_signal']] # input\n",
    "y=df.loc[:,['label']] # target\n",
    "\n",
    "# splitting thee dataset into training and testing sets\n",
    "x_train,x_test,y_train,y_test=train_test_split(x,y,random_state=42,test_size=0.30)"
   ]
  },
  {
   "cell_type": "code",
   "execution_count": 4,
   "id": "ca983110",
   "metadata": {},
   "outputs": [
    {
     "name": "stdout",
     "output_type": "stream",
     "text": [
      "Accuracy:  1.0\n",
      "Recall:  1.0\n",
      "F1score:  1.0\n"
     ]
    }
   ],
   "source": [
    "gnb=GaussianNB()\n",
    "gnb.fit(x_train,y_train.values.ravel())\n",
    "y_pred_gnb=gnb.predict(x_test)\n",
    "\n",
    "print(\"Accuracy: \",accuracy_score(y_test,y_pred_gnb))\n",
    "#print(\"Precision: \",precision_score(y_test,y_pred,average='weighted'))\n",
    "print(\"Recall: \",recall_score(y_test,y_pred_gnb,average='weighted'))\n",
    "print(\"F1score: \",f1_score(y_test,y_pred_gnb,average='weighted'))\n",
    "\n",
    "gprecision, grecall, thresholds = precision_recall_curve(y_test, y_pred_gnb)\n",
    "\n",
    "# fig, ax = plt.subplots()\n",
    "# ax.plot(recall, precision, color='purple')\n",
    "\n",
    "#add axis labels to plot\n",
    "# ax.set_title('Precision-Recall Curve')\n",
    "# ax.set_ylabel('Precision')\n",
    "# ax.set_xlabel('Recall')\n",
    "\n",
    "#display plot\n",
    "#plt.show()\n",
    "#plt.savefig('garage_door_guassian.eps')\n",
    "#plt.savefig('garage_door_guassian.jpg', bbox_inches='tight', facecolor='white')"
   ]
  },
  {
   "cell_type": "code",
   "execution_count": 5,
   "id": "0ced5752",
   "metadata": {},
   "outputs": [
    {
     "name": "stdout",
     "output_type": "stream",
     "text": [
      "Accuracy:  0.5685517704312805\n",
      "Recall:  0.5685517704312805\n",
      "F1 score:  0.48108693283862586\n"
     ]
    }
   ],
   "source": [
    "mnb=MultinomialNB()\n",
    "mnb.fit(x_train,y_train.values.ravel())\n",
    "y_pred_mnb=mnb.predict(x_test)\n",
    "print(\"Accuracy: \",accuracy_score(y_test,y_pred_mnb))\n",
    "print(\"Recall: \",recall_score(y_test,y_pred_mnb,average=\"weighted\"))\n",
    "print(\"F1 score: \",f1_score(y_test,y_pred_mnb,average=\"weighted\"))\n",
    "\n",
    "mprecision, mrecall, thresholds = precision_recall_curve(y_test, y_pred_mnb)\n",
    "\n",
    "# fig, ax = plt.subplots()\n",
    "# ax.plot(recall, precision, color='purple')\n",
    "\n",
    "#add axis labels to plot\n",
    "# ax.set_title('Precision-Recall Curve')\n",
    "# ax.set_ylabel('Precision')\n",
    "# ax.set_xlabel('Recall')\n",
    "\n",
    "#display plot\n",
    "#plt.show()\n",
    "# plt.savefig('garage_door_multinomial.jpg', bbox_inches='tight', facecolor='white')"
   ]
  },
  {
   "cell_type": "code",
   "execution_count": 6,
   "id": "47d20d8c",
   "metadata": {},
   "outputs": [
    {
     "name": "stdout",
     "output_type": "stream",
     "text": [
      "Accuracy:  1.0\n",
      "Recall:  1.0\n",
      "F1score:  1.0\n"
     ]
    }
   ],
   "source": [
    "rfc=RandomForestClassifier(n_estimators=100, random_state=42, max_depth=10)\n",
    "rfc.fit(x_train,y_train.values.ravel())\n",
    "y_pred_rfc=rfc.predict(x_test)\n",
    "# print(y_test)\n",
    "# print(y_pred)\n",
    "print(\"Accuracy: \",accuracy_score(y_test,y_pred_rfc))\n",
    "#print(\"Precision: \",precision_score(y_test,y_pred,average='weighted'))\n",
    "print(\"Recall: \",recall_score(y_test,y_pred_rfc,average='weighted'))\n",
    "print(\"F1score: \",f1_score(y_test,y_pred_rfc,average='weighted'))\n",
    "\n",
    "rprecision, rrecall, thresholds = precision_recall_curve(y_test, y_pred_rfc)\n",
    "\n",
    "# fig, ax = plt.subplots()\n",
    "# ax.plot(recall, precision, color='purple')\n",
    "\n",
    "#add axis labels to plot\n",
    "# ax.set_title('Precision-Recall Curve')\n",
    "# ax.set_ylabel('Precision')\n",
    "# ax.set_xlabel('Recall')\n",
    "\n",
    "#display plot\n",
    "#plt.show()\n",
    "# plt.savefig('garage_door_random.jpg', bbox_inches='tight', facecolor='white')"
   ]
  },
  {
   "cell_type": "code",
   "execution_count": 7,
   "id": "fd2ddb25",
   "metadata": {},
   "outputs": [
    {
     "name": "stdout",
     "output_type": "stream",
     "text": [
      "Accuracy:  1.0\n",
      "Recall:  1.0\n",
      "F1score:  1.0\n"
     ]
    }
   ],
   "source": [
    "xgb_classifier=xgb.XGBClassifier(n_estimators=100, random_state=42, max_depth=10)\n",
    "xgb_classifier.fit(x_train,y_train.values.ravel())\n",
    "y_pred_xgb=xgb_classifier.predict(x_test)\n",
    "\n",
    "print(\"Accuracy: \",accuracy_score(y_test,y_pred_xgb))\n",
    "#print(\"Precision: \",precision_score(y_test,y_pred,average='weighted'))\n",
    "print(\"Recall: \",recall_score(y_test,y_pred_xgb,average='weighted'))\n",
    "print(\"F1score: \",f1_score(y_test,y_pred_xgb,average='weighted'))\n",
    "\n",
    "xprecision, xrecall, thresholds = precision_recall_curve(y_test, y_pred_xgb)\n",
    "\n",
    "# fig, ax = plt.subplots()\n",
    "# ax.plot(recall, precision, color='purple')\n",
    "\n",
    "#add axis labels to plot\n",
    "# ax.set_title('Precision-Recall Curve')\n",
    "# ax.set_ylabel('Precision')\n",
    "# ax.set_xlabel('Recall')\n",
    "\n",
    "#display plot\n",
    "#plt.show()\n",
    "# plt.savefig('garage_door_xgb.jpg', bbox_inches='tight', facecolor='white')"
   ]
  },
  {
   "cell_type": "code",
   "execution_count": 8,
   "id": "6a32ef80",
   "metadata": {},
   "outputs": [
    {
     "name": "stdout",
     "output_type": "stream",
     "text": [
      "Accuracy:  1.0\n",
      "Recall:  1.0\n",
      "F1score:  1.0\n"
     ]
    }
   ],
   "source": [
    "model = MLPClassifier(max_iter=100, random_state=42)\n",
    "model.fit(x_train, y_train.values.ravel())\n",
    "y_pred_mlp=model.predict(x_test)\n",
    "\n",
    "print(\"Accuracy: \",accuracy_score(y_test,y_pred_mlp))\n",
    "#print(\"Precision: \",precision_score(y_test,y_pred,average='weighted'))\n",
    "print(\"Recall: \",recall_score(y_test,y_pred_mlp,average='weighted'))\n",
    "print(\"F1score: \",f1_score(y_test,y_pred_mlp,average='weighted'))\n",
    "\n",
    "mlprecision, mlrecall, thresholds = precision_recall_curve(y_test, y_pred_mlp)\n",
    "\n",
    "# fig, ax = plt.subplots()\n",
    "# ax.plot(recall, precision, color='purple')\n",
    "\n",
    "#add axis labels to plot\n",
    "# ax.set_title('Precision-Recall Curve')\n",
    "# ax.set_ylabel('Precision')\n",
    "# ax.set_xlabel('Recall')\n",
    "\n",
    "#display plot\n",
    "#plt.show()\n",
    "# plt.savefig('garage_door_mlp.jpg', bbox_inches='tight', facecolor='white')"
   ]
  },
  {
   "cell_type": "code",
   "execution_count": 9,
   "id": "974e7efd",
   "metadata": {},
   "outputs": [
    {
     "name": "stdout",
     "output_type": "stream",
     "text": [
      "Accuracy:  1.0\n",
      "Recall:  1.0\n",
      "F1score:  1.0\n"
     ]
    }
   ],
   "source": [
    "abc = AdaBoostClassifier(n_estimators=100, learning_rate=1, random_state=42)\n",
    "# Train Adaboost Classifer\n",
    "abc.fit(x_train, y_train.values.ravel())\n",
    "#Predict the response for test dataset\n",
    "y_pred_abc = abc.predict(x_test)\n",
    "\n",
    "print(\"Accuracy: \",accuracy_score(y_test,y_pred_abc))\n",
    "#print(\"Precision: \",precision_score(y_test,y_pred,average='weighted'))\n",
    "print(\"Recall: \",recall_score(y_test,y_pred_abc,average='weighted'))\n",
    "print(\"F1score: \",f1_score(y_test,y_pred_abc,average='weighted'))\n",
    "\n",
    "aprecision, arecall, athresholds = precision_recall_curve(y_test, y_pred_abc)\n",
    "\n",
    "# fig, ax = plt.subplots()\n",
    "# ax.plot(recall, precision, color='purple')\n",
    "\n",
    "#add axis labels to plot\n",
    "# ax.set_title('Precision-Recall Curve')\n",
    "# ax.set_ylabel('Precision')\n",
    "# ax.set_xlabel('Recall')\n",
    "\n",
    "#display plot\n",
    "#plt.show()\n",
    "# plt.savefig('garage_door_adaboost.jpg', bbox_inches='tight', facecolor='white')"
   ]
  },
  {
   "cell_type": "code",
   "execution_count": 10,
   "id": "edc4ff93",
   "metadata": {},
   "outputs": [
    {
     "name": "stdout",
     "output_type": "stream",
     "text": [
      "Accuracy:  1.0\n",
      "Recall:  1.0\n",
      "F1score:  1.0\n"
     ]
    }
   ],
   "source": [
    "clf=DecisionTreeClassifier()\n",
    "clf.fit(x_train,y_train.values.ravel())\n",
    "y_pred=clf.predict(x_test)\n",
    "print(\"Accuracy: \",accuracy_score(y_test,y_pred_mlp))\n",
    "#print(\"Precision: \",precision_score(y_test,y_pred,average='weighted'))\n",
    "print(\"Recall: \",recall_score(y_test,y_pred_mlp,average='weighted'))\n",
    "print(\"F1score: \",f1_score(y_test,y_pred_mlp,average='weighted'))\n",
    "dprecision, drecall, thresholds = precision_recall_curve(y_test, y_pred)"
   ]
  },
  {
   "cell_type": "code",
   "execution_count": 13,
   "id": "bb626733",
   "metadata": {},
   "outputs": [
    {
     "name": "stdout",
     "output_type": "stream",
     "text": [
      "Accuracy:  1.0\n",
      "Recall:  1.0\n",
      "F1score:  1.0\n"
     ]
    }
   ],
   "source": [
    "classifier = KNeighborsClassifier(n_neighbors=5, metric='minkowski', p=2 )\n",
    "classifier.fit(x_train,y_train.values.ravel())\n",
    "y_pred=classifier.predict(x_test)\n",
    "print(\"Accuracy: \",accuracy_score(y_test,y_pred_mlp))\n",
    "print(\"Recall: \",recall_score(y_test,y_pred_mlp,average='weighted'))\n",
    "print(\"F1score: \",f1_score(y_test,y_pred_mlp,average='weighted'))\n",
    "kprecision, krecall, thresholds = precision_recall_curve(y_test, y_pred)"
   ]
  },
  {
   "cell_type": "code",
   "execution_count": 12,
   "id": "613c9551",
   "metadata": {},
   "outputs": [
    {
     "name": "stderr",
     "output_type": "stream",
     "text": [
      "C:\\Users\\bindu\\anaconda3\\lib\\site-packages\\sklearn\\discriminant_analysis.py:887: UserWarning: Variables are collinear\n",
      "  warnings.warn(\"Variables are collinear\")\n"
     ]
    }
   ],
   "source": [
    "clf=QuadraticDiscriminantAnalysis()\n",
    "clf.fit(x_train,y_train.values.ravel())\n",
    "y_pred=clf.predict(x_test)\n",
    "qprecision, qrecall, thresholds = precision_recall_curve(y_test, y_pred)"
   ]
  },
  {
   "cell_type": "code",
   "execution_count": 14,
   "id": "b8073a26",
   "metadata": {},
   "outputs": [
    {
     "data": {
      "image/png": "[encoded data removed]",
      "text/plain": [
       "<Figure size 432x288 with 1 Axes>"
      ]
     },
     "metadata": {
      "needs_background": "light"
     },
     "output_type": "display_data"
    }
   ],
   "source": [
    "plt.xlabel(\"Precision\")\n",
    "plt.ylabel(\"Recall\")\n",
    "plt.plot(grecall,gprecision,label='guassian')\n",
    "# plt.plot(mrecall,mprecision,label='multinomial')\n",
    "plt.plot(rrecall,rprecision,label='random_forest')\n",
    "plt.plot(xrecall,xprecision,label='xg_boost')\n",
    "plt.plot(mlrecall,mlprecision,label='mlp')\n",
    "# plt.plot(arecall,aprecision,label='ada_boost')\n",
    "plt.plot(drecall,dprecision,label='decision_tree')\n",
    "plt.plot(krecall,kprecision,label='kn')\n",
    "# plt.plot(qrecall,qprecision,label='quadratic')\n",
    "plt.legend()\n",
    "plt.show()\n",
    "#plt.savefig('garage_door_guassian_all.jpg', bbox_inches='tight')"
   ]
  },
  {
   "cell_type": "code",
   "execution_count": null,
   "id": "8e581dfa",
   "metadata": {},
   "outputs": [],
   "source": []
  }
 ],
 "metadata": {
  "kernelspec": {
   "display_name": "Python 3 (ipykernel)",
   "language": "python",
   "name": "python3"
  },
  "language_info": {
   "codemirror_mode": {
    "name": "ipython",
    "version": 3
   },
   "file_extension": ".py",
   "mimetype": "text/x-python",
   "name": "python",
   "nbconvert_exporter": "python",
   "pygments_lexer": "ipython3",
   "version": "3.9.12"
  }
 },
 "nbformat": 4,
 "nbformat_minor": 5
}
