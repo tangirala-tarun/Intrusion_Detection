{
 "cells": [
  {
   "cell_type": "code",
   "execution_count": 1,
   "id": "2165a719",
   "metadata": {},
   "outputs": [],
   "source": [
    "import pandas as pd\n",
    "import numpy as np\n",
    "from sklearn.model_selection import train_test_split\n",
    "from sklearn.naive_bayes import GaussianNB, MultinomialNB\n",
    "from sklearn import metrics\n",
    "from sklearn.metrics import confusion_matrix, accuracy_score, precision_score, recall_score, f1_score\n",
    "from sklearn import preprocessing\n",
    "from sklearn.ensemble import RandomForestClassifier\n",
    "import xgboost as xgb\n",
    "from sklearn.neural_network import MLPClassifier\n",
    "import pandas_profiling as pp\n",
    "from sklearn.ensemble import AdaBoostClassifier\n",
    "from sklearn.metrics import precision_recall_curve\n",
    "import matplotlib.pyplot as plt\n",
    "from sklearn.tree import DecisionTreeClassifier\n",
    "from sklearn.neighbors import KNeighborsClassifier\n",
    "from sklearn.discriminant_analysis import QuadraticDiscriminantAnalysis"
   ]
  },
  {
   "cell_type": "code",
   "execution_count": 2,
   "id": "7b76f8f2",
   "metadata": {},
   "outputs": [],
   "source": [
    "df=pd.read_csv(r\"D:\\Datasets\\Train_test_linux\\Train_Test_Linux_disk.csv\")\n",
    "# profile=pp.ProfileReport(df)\n",
    "# profile.to_file(\"linux_disk.html\")"
   ]
  },
  {
   "cell_type": "code",
   "execution_count": 3,
   "id": "c7516f23",
   "metadata": {},
   "outputs": [],
   "source": [
    "df.drop(['ts','type'],axis=1,inplace=True)\n",
    "\n",
    "label_encoder=preprocessing.LabelEncoder()\n",
    "df['CMD']=label_encoder.fit_transform(df['CMD'])\n",
    "#df['type']=label_encoder.fit_transform(df['type'])\n",
    "\n",
    "x=df.loc[:,['PID','RDDSK','WRDSK','WCANCL','DSK','CMD']] # input\n",
    "y=df.loc[:,['label']] # target\n",
    "\n",
    "# splitting thee dataset into training and testing sets\n",
    "x_train,x_test,y_train,y_test=train_test_split(x,y,random_state=42,test_size=0.30)"
   ]
  },
  {
   "cell_type": "code",
   "execution_count": 4,
   "id": "a59d62c9",
   "metadata": {},
   "outputs": [
    {
     "name": "stdout",
     "output_type": "stream",
     "text": [
      "Accuracy:  0.6360702835491527\n",
      "Recall:  0.6360702835491527\n",
      "F1score:  0.5111882800753296\n"
     ]
    }
   ],
   "source": [
    "gnb=GaussianNB()\n",
    "model=gnb.fit(x_train,y_train.values.ravel())\n",
    "y_pred=model.predict(x_test)\n",
    "\n",
    "print(\"Accuracy: \",accuracy_score(y_test,y_pred))\n",
    "#print(\"Precision: \",precision_score(y_test,y_pred,average='weighted'))\n",
    "print(\"Recall: \",recall_score(y_test,y_pred,average='weighted'))\n",
    "print(\"F1score: \",f1_score(y_test,y_pred,average='weighted'))\n",
    "\n",
    "gprecision, grecall, thresholds = precision_recall_curve(y_test, y_pred)\n",
    "\n",
    "# fig, ax = plt.subplots()\n",
    "# ax.plot(recall, precision, color='purple')\n",
    "\n",
    "# #add axis labels to plot\n",
    "# ax.set_title('Precision-Recall Curve')\n",
    "# ax.set_ylabel('Precision')\n",
    "# ax.set_xlabel('Recall')\n",
    "\n",
    "# #display plot\n",
    "# # plt.show()\n",
    "# plt.savefig('disk_guassian.jpg', bbox_inches='tight', facecolor='white')"
   ]
  },
  {
   "cell_type": "code",
   "execution_count": 5,
   "id": "e4e3e884",
   "metadata": {},
   "outputs": [
    {
     "name": "stdout",
     "output_type": "stream",
     "text": [
      "Accuracy:  0.6123162759711871\n",
      "Recall:  0.6123162759711871\n",
      "F1 score:  0.608318505355686\n"
     ]
    }
   ],
   "source": [
    "mnb=MultinomialNB()\n",
    "mnb.fit(x_train,y_train.values.ravel())\n",
    "y_pred=mnb.predict(x_test)\n",
    "print(\"Accuracy: \",accuracy_score(y_test,y_pred))\n",
    "print(\"Recall: \",recall_score(y_test,y_pred,average=\"weighted\"))\n",
    "print(\"F1 score: \",f1_score(y_test,y_pred,average=\"weighted\"))\n",
    "\n",
    "mprecision, mrecall, thresholds = precision_recall_curve(y_test, y_pred)\n",
    "\n",
    "# fig, ax = plt.subplots()\n",
    "# ax.plot(recall, precision, color='purple')\n",
    "\n",
    "# #add axis labels to plot\n",
    "# ax.set_title('Precision-Recall Curve')\n",
    "# ax.set_ylabel('Precision')\n",
    "# ax.set_xlabel('Recall')\n",
    "\n",
    "# #display plot\n",
    "# # plt.show()\n",
    "# plt.savefig('disk_multinomial.jpg', bbox_inches='tight', facecolor='white')"
   ]
  },
  {
   "cell_type": "code",
   "execution_count": 6,
   "id": "c9bf72f2",
   "metadata": {},
   "outputs": [
    {
     "name": "stdout",
     "output_type": "stream",
     "text": [
      "Accuracy:  0.8725902485739268\n",
      "Recall:  0.8725902485739268\n",
      "F1score:  0.8665375022204216\n"
     ]
    }
   ],
   "source": [
    "rfc=RandomForestClassifier(n_estimators=100, random_state=42, max_depth=10)\n",
    "rfc.fit(x_train,y_train.values.ravel())\n",
    "y_pred=rfc.predict(x_test)\n",
    "#y_pred = rfc.predict_proba(x_test)[:, 1]\n",
    "# print(y_test)\n",
    "# print(y_pred)\n",
    "print(\"Accuracy: \",accuracy_score(y_test,y_pred))\n",
    "#print(\"Precision: \",precision_score(y_test,y_pred,average='weighted'))\n",
    "print(\"Recall: \",recall_score(y_test,y_pred,average='weighted'))\n",
    "print(\"F1score: \",f1_score(y_test,y_pred,average='weighted'))\n",
    "\n",
    "rprecision, rrecall, thresholds = precision_recall_curve(y_test, y_pred)\n",
    "\n",
    "# fig, ax = plt.subplots()\n",
    "# ax.plot(recall, precision, color='purple')\n",
    "\n",
    "# #add axis labels to plot\n",
    "# ax.set_title('Precision-Recall Curve')\n",
    "# ax.set_ylabel('Precision')\n",
    "# ax.set_xlabel('Recall')\n",
    "\n",
    "# #display plot\n",
    "# # plt.show()\n",
    "# plt.savefig('thermostat_random.jpg', bbox_inches='tight', facecolor='white')"
   ]
  },
  {
   "cell_type": "code",
   "execution_count": 7,
   "id": "d81f12b0",
   "metadata": {},
   "outputs": [
    {
     "name": "stdout",
     "output_type": "stream",
     "text": [
      "Accuracy:  0.9451222051047174\n",
      "Recall:  0.9451222051047174\n",
      "F1score:  0.9442719867829836\n"
     ]
    }
   ],
   "source": [
    "xgb_classifier=xgb.XGBClassifier(n_estimators=100, random_state=42, max_depth=10)\n",
    "xgb_classifier.fit(x_train,y_train.values.ravel())\n",
    "y_pred=xgb_classifier.predict(x_test)\n",
    "\n",
    "print(\"Accuracy: \",accuracy_score(y_test,y_pred))\n",
    "#print(\"Precision: \",precision_score(y_test,y_pred,average='weighted'))\n",
    "print(\"Recall: \",recall_score(y_test,y_pred,average='weighted'))\n",
    "print(\"F1score: \",f1_score(y_test,y_pred,average='weighted'))\n",
    "\n",
    "xprecision, xrecall, thresholds = precision_recall_curve(y_test, y_pred)\n",
    "\n",
    "# fig, ax = plt.subplots()\n",
    "# ax.plot(recall, precision, color='purple')\n",
    "\n",
    "# #add axis labels to plot\n",
    "# ax.set_title('Precision-Recall Curve')\n",
    "# ax.set_ylabel('Precision')\n",
    "# ax.set_xlabel('Recall')\n",
    "\n",
    "# #display plot\n",
    "# # plt.show()\n",
    "# plt.savefig('thermostat_xgb.jpg', bbox_inches='tight', facecolor='white')"
   ]
  },
  {
   "cell_type": "code",
   "execution_count": 8,
   "id": "458e68b3",
   "metadata": {},
   "outputs": [
    {
     "name": "stdout",
     "output_type": "stream",
     "text": [
      "Accuracy:  0.6940292292959154\n",
      "Recall:  0.6940292292959154\n",
      "F1score:  0.6491313892192179\n"
     ]
    }
   ],
   "source": [
    "model = MLPClassifier(max_iter=100, random_state=42)\n",
    "model.fit(x_train, y_train.values.ravel())\n",
    "y_pred=model.predict(x_test)\n",
    "\n",
    "print(\"Accuracy: \",accuracy_score(y_test,y_pred))\n",
    "#print(\"Precision: \",precision_score(y_test,y_pred,average='weighted'))\n",
    "print(\"Recall: \",recall_score(y_test,y_pred,average='weighted'))\n",
    "print(\"F1score: \",f1_score(y_test,y_pred,average='weighted'))\n",
    "\n",
    "mlprecision, mlrecall, thresholds = precision_recall_curve(y_test, y_pred)\n",
    "\n",
    "# fig, ax = plt.subplots()\n",
    "# ax.plot(recall, precision, color='purple')\n",
    "\n",
    "# #add axis labels to plot\n",
    "# ax.set_title('Precision-Recall Curve')\n",
    "# ax.set_ylabel('Precision')\n",
    "# ax.set_xlabel('Recall')\n",
    "\n",
    "# #display plot\n",
    "# # plt.show()\n",
    "# plt.savefig('thermostat_mlp.jpg', bbox_inches='tight', facecolor='white')"
   ]
  },
  {
   "cell_type": "code",
   "execution_count": 9,
   "id": "57b8f902",
   "metadata": {},
   "outputs": [
    {
     "name": "stdout",
     "output_type": "stream",
     "text": [
      "Accuracy:  0.8481492276304284\n",
      "Recall:  0.8481492276304284\n",
      "F1score:  0.8432386600241212\n"
     ]
    }
   ],
   "source": [
    "abc = AdaBoostClassifier(n_estimators=100, learning_rate=1, random_state=42)\n",
    "# Train Adaboost Classifer\n",
    "model1 = abc.fit(x_train, y_train.values.ravel())\n",
    "#Predict the response for test dataset\n",
    "y_pred = model1.predict(x_test)\n",
    "\n",
    "print(\"Accuracy: \",accuracy_score(y_test,y_pred))\n",
    "#print(\"Precision: \",precision_score(y_test,y_pred,average='weighted'))\n",
    "print(\"Recall: \",recall_score(y_test,y_pred,average='weighted'))\n",
    "print(\"F1score: \",f1_score(y_test,y_pred,average='weighted'))\n",
    "\n",
    "aprecision, arecall, thresholds = precision_recall_curve(y_test, y_pred)\n",
    "\n",
    "# fig, ax = plt.subplots()\n",
    "# ax.plot(recall, precision, color='purple')\n",
    "\n",
    "# #add axis labels to plot\n",
    "# ax.set_title('Precision-Recall Curve')\n",
    "# ax.set_ylabel('Precision')\n",
    "# ax.set_xlabel('Recall')\n",
    "\n",
    "# #display plot\n",
    "# # plt.show()\n",
    "# plt.savefig('thermostat_adaboost.jpg', bbox_inches='tight', facecolor='white')"
   ]
  },
  {
   "cell_type": "code",
   "execution_count": 4,
   "id": "14a18288",
   "metadata": {},
   "outputs": [],
   "source": [
    "clf=DecisionTreeClassifier()\n",
    "#Training a Decision Tree Classifer\n",
    "clf.fit(x_train,y_train.values.ravel())\n",
    "#Predicting the response for test dataset\n",
    "y_pred=clf.predict(x_test)\n",
    "# splitting thee dataset into training and testing sets\n",
    "dprecision, drecall, thresholds = precision_recall_curve(y_test, y_pred)"
   ]
  },
  {
   "cell_type": "code",
   "execution_count": 11,
   "id": "6c4b607d",
   "metadata": {},
   "outputs": [],
   "source": [
    "classifier = KNeighborsClassifier(n_neighbors=5, metric='minkowski', p=2 )\n",
    "classifier.fit(x_train,y_train.values.ravel())\n",
    "y_pred=classifier.predict(x_test)\n",
    "kprecision, krecall, thresholds = precision_recall_curve(y_test, y_pred)"
   ]
  },
  {
   "cell_type": "code",
   "execution_count": 12,
   "id": "1ec3d6cc",
   "metadata": {},
   "outputs": [],
   "source": [
    "clf=QuadraticDiscriminantAnalysis()\n",
    "clf.fit(x_train,y_train.values.ravel())\n",
    "y_pred=clf.predict(x_test)\n",
    "qprecision, qrecall, thresholds = precision_recall_curve(y_test, y_pred)"
   ]
  },
  {
   "cell_type": "code",
   "execution_count": 13,
   "id": "8c654806",
   "metadata": {},
   "outputs": [
    {
     "data": {
      "image/png": "[encoded data removed]",
      "text/plain": [
       "<Figure size 432x288 with 1 Axes>"
      ]
     },
     "metadata": {
      "needs_background": "light"
     },
     "output_type": "display_data"
    }
   ],
   "source": [
    "plt.plot(grecall,gprecision,label='guassian')\n",
    "plt.plot(mrecall,mprecision,label='multinomial')\n",
    "plt.plot(rrecall,rprecision,label='random_forest')\n",
    "plt.plot(xrecall,xprecision,label='xg_boost')\n",
    "plt.plot(mlrecall,mlprecision,label='mlp')\n",
    "plt.plot(arecall,aprecision,label='ada_boost')\n",
    "plt.plot(drecall,dprecision,label='decision_tree')\n",
    "plt.plot(krecall,kprecision,label='kn')\n",
    "plt.plot(qrecall,qprecision,label='quadratic')\n",
    "plt.legend()\n",
    "plt.show()"
   ]
  },
  {
   "cell_type": "code",
   "execution_count": null,
   "id": "c90c2e5d",
   "metadata": {},
   "outputs": [],
   "source": []
  }
 ],
 "metadata": {
  "kernelspec": {
   "display_name": "Python 3 (ipykernel)",
   "language": "python",
   "name": "python3"
  },
  "language_info": {
   "codemirror_mode": {
    "name": "ipython",
    "version": 3
   },
   "file_extension": ".py",
   "mimetype": "text/x-python",
   "name": "python",
   "nbconvert_exporter": "python",
   "pygments_lexer": "ipython3",
   "version": "3.9.12"
  }
 },
 "nbformat": 4,
 "nbformat_minor": 5
}
