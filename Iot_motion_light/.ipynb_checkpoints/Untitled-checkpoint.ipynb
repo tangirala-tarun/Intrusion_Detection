{
 "cells": [
  {
   "cell_type": "code",
   "execution_count": 1,
   "id": "1a896b8f",
   "metadata": {},
   "outputs": [],
   "source": [
    "import pandas as pd\n",
    "import numpy as np\n",
    "from sklearn.model_selection import train_test_split\n",
    "from sklearn.naive_bayes import GaussianNB\n",
    "from sklearn import metrics\n",
    "from sklearn.metrics import confusion_matrix, accuracy_score, precision_score, recall_score, f1_score\n",
    "from sklearn import preprocessing\n",
    "from sklearn.ensemble import RandomForestClassifier\n",
    "import xgboost as xgb\n",
    "from sklearn.neural_network import MLPClassifier\n",
    "import pandas_profiling as pp"
   ]
  },
  {
   "cell_type": "code",
   "execution_count": 5,
   "id": "80845bd4",
   "metadata": {},
   "outputs": [
    {
     "data": {
      "application/vnd.jupyter.widget-view+json": {
       "model_id": "1fd23cd4ee7d4e1badcb0bf9f67b4862",
       "version_major": 2,
       "version_minor": 0
      },
      "text/plain": [
       "Summarize dataset:   0%|          | 0/5 [00:00<?, ?it/s]"
      ]
     },
     "metadata": {},
     "output_type": "display_data"
    },
    {
     "data": {
      "application/vnd.jupyter.widget-view+json": {
       "model_id": "5ce42d8ecb0f4e8f80b1a05c050ed6b0",
       "version_major": 2,
       "version_minor": 0
      },
      "text/plain": [
       "Generate report structure:   0%|          | 0/1 [00:00<?, ?it/s]"
      ]
     },
     "metadata": {},
     "output_type": "display_data"
    },
    {
     "data": {
      "application/vnd.jupyter.widget-view+json": {
       "model_id": "f1df0086a45a43e483f7331dcef244ca",
       "version_major": 2,
       "version_minor": 0
      },
      "text/plain": [
       "Render HTML:   0%|          | 0/1 [00:00<?, ?it/s]"
      ]
     },
     "metadata": {},
     "output_type": "display_data"
    },
    {
     "data": {
      "application/vnd.jupyter.widget-view+json": {
       "model_id": "73123e4f138f4b3ab85386b2b8ed8377",
       "version_major": 2,
       "version_minor": 0
      },
      "text/plain": [
       "Export report to file:   0%|          | 0/1 [00:00<?, ?it/s]"
      ]
     },
     "metadata": {},
     "output_type": "display_data"
    }
   ],
   "source": [
    "df=pd.read_csv(r\"D:\\Datasets\\Train_test_iot\\Train_Test_IoT_Motion_Light.csv\")\n",
    "\n",
    "profile = pp.ProfileReport(df)\n",
    "profile.to_file(\"output.html\")"
   ]
  },
  {
   "cell_type": "code",
   "execution_count": 7,
   "id": "aec4db15",
   "metadata": {},
   "outputs": [],
   "source": [
    "df.drop(['ts','date','time','label'],axis=1,inplace=True)\n",
    "\n",
    "label_encoder=preprocessing.LabelEncoder()\n",
    "df['light_status']=label_encoder.fit_transform(df['light_status'])"
   ]
  },
  {
   "cell_type": "code",
   "execution_count": 11,
   "id": "edc8c834",
   "metadata": {},
   "outputs": [],
   "source": [
    "df['type']=label_encoder.fit_transform(df['type'])"
   ]
  },
  {
   "cell_type": "code",
   "execution_count": 13,
   "id": "5a7c8258",
   "metadata": {},
   "outputs": [],
   "source": [
    "x=df.loc[:,['motion_status','light_status']] # input\n",
    "y=df.loc[:,['type']] # target\n",
    "\n",
    "# splitting thee dataset into training and testing sets\n",
    "x_train,x_test,y_train,y_test=train_test_split(x,y,random_state=42,test_size=0.30)"
   ]
  },
  {
   "cell_type": "code",
   "execution_count": 15,
   "id": "db42a947",
   "metadata": {},
   "outputs": [
    {
     "name": "stdout",
     "output_type": "stream",
     "text": [
      "Accuracy:  0.5884462374628789\n",
      "Recall:  0.5884462374628789\n",
      "F1score:  0.4359845063907125\n"
     ]
    }
   ],
   "source": [
    "gnb=GaussianNB()\n",
    "model=gnb.fit(x_train,y_train.values.ravel())\n",
    "y_pred=model.predict(x_test)\n",
    "\n",
    "print(\"Accuracy: \",accuracy_score(y_test,y_pred))\n",
    "#print(\"Precision: \",precision_score(y_test,y_pred,average='weighted'))\n",
    "print(\"Recall: \",recall_score(y_test,y_pred,average='weighted'))\n",
    "print(\"F1score: \",f1_score(y_test,y_pred,average='weighted'))"
   ]
  },
  {
   "cell_type": "code",
   "execution_count": 14,
   "id": "d58329a8",
   "metadata": {},
   "outputs": [
    {
     "name": "stdout",
     "output_type": "stream",
     "text": [
      "Accuracy:  0.5884462374628789\n",
      "Recall:  0.5884462374628789\n",
      "F1score:  0.4359845063907125\n"
     ]
    }
   ],
   "source": [
    "rfc=RandomForestClassifier(n_estimators=100, random_state=42, max_depth=10)\n",
    "rfc.fit(x_train,y_train.values.ravel())\n",
    "y_pred=rfc.predict(x_test)\n",
    "# print(y_test)\n",
    "# print(y_pred)\n",
    "print(\"Accuracy: \",accuracy_score(y_test,y_pred))\n",
    "#print(\"Precision: \",precision_score(y_test,y_pred,average='weighted'))\n",
    "print(\"Recall: \",recall_score(y_test,y_pred,average='weighted'))\n",
    "print(\"F1score: \",f1_score(y_test,y_pred,average='weighted'))"
   ]
  },
  {
   "cell_type": "code",
   "execution_count": 16,
   "id": "c405e40a",
   "metadata": {},
   "outputs": [
    {
     "name": "stdout",
     "output_type": "stream",
     "text": [
      "Accuracy:  0.5884462374628789\n",
      "Recall:  0.5884462374628789\n",
      "F1score:  0.4359845063907125\n"
     ]
    }
   ],
   "source": [
    "xgb_classifier=xgb.XGBClassifier(n_estimators=100, random_state=42, max_depth=10)\n",
    "xgb_classifier.fit(x_train,y_train.values.ravel())\n",
    "y_pred=xgb_classifier.predict(x_test)\n",
    "\n",
    "print(\"Accuracy: \",accuracy_score(y_test,y_pred))\n",
    "#print(\"Precision: \",precision_score(y_test,y_pred,average='weighted'))\n",
    "print(\"Recall: \",recall_score(y_test,y_pred,average='weighted'))\n",
    "print(\"F1score: \",f1_score(y_test,y_pred,average='weighted'))"
   ]
  },
  {
   "cell_type": "code",
   "execution_count": 17,
   "id": "cca0693f",
   "metadata": {},
   "outputs": [
    {
     "name": "stdout",
     "output_type": "stream",
     "text": [
      "Accuracy:  0.5884462374628789\n",
      "Recall:  0.5884462374628789\n",
      "F1score:  0.4359845063907125\n"
     ]
    }
   ],
   "source": [
    "model = MLPClassifier(max_iter=100, random_state=42)\n",
    "model.fit(x_train, y_train.values.ravel())\n",
    "y_pred=model.predict(x_test)\n",
    "\n",
    "print(\"Accuracy: \",accuracy_score(y_test,y_pred))\n",
    "#print(\"Precision: \",precision_score(y_test,y_pred,average='weighted'))\n",
    "print(\"Recall: \",recall_score(y_test,y_pred,average='weighted'))\n",
    "print(\"F1score: \",f1_score(y_test,y_pred,average='weighted'))"
   ]
  },
  {
   "cell_type": "code",
   "execution_count": null,
   "id": "924fd449",
   "metadata": {},
   "outputs": [],
   "source": []
  }
 ],
 "metadata": {
  "kernelspec": {
   "display_name": "Python 3 (ipykernel)",
   "language": "python",
   "name": "python3"
  },
  "language_info": {
   "codemirror_mode": {
    "name": "ipython",
    "version": 3
   },
   "file_extension": ".py",
   "mimetype": "text/x-python",
   "name": "python",
   "nbconvert_exporter": "python",
   "pygments_lexer": "ipython3",
   "version": "3.9.12"
  }
 },
 "nbformat": 4,
 "nbformat_minor": 5
}
