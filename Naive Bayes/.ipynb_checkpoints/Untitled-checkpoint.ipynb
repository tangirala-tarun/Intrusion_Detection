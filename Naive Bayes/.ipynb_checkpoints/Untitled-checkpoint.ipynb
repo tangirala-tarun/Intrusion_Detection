{
 "cells": [
  {
   "cell_type": "code",
   "execution_count": 5,
   "id": "d2919f55",
   "metadata": {},
   "outputs": [],
   "source": [
    "import pandas as pd\n",
    "import numpy as np\n",
    "from sklearn.model_selection import train_test_split\n",
    "from sklearn.naive_bayes import GaussianNB\n",
    "from sklearn import metrics\n",
    "from sklearn.metrics import confusion_matrix, accuracy_score, precision_score, recall_score, f1_score\n",
    "from sklearn import preprocessing"
   ]
  },
  {
   "cell_type": "code",
   "execution_count": 6,
   "id": "b8a1284c",
   "metadata": {},
   "outputs": [
    {
     "name": "stdout",
     "output_type": "stream",
     "text": [
      "<class 'pandas.core.frame.DataFrame'>\n",
      "RangeIndex: 587076 entries, 0 to 587075\n",
      "Data columns (total 3 columns):\n",
      " #   Column              Non-Null Count   Dtype  \n",
      "---  ------              --------------   -----  \n",
      " 0   fridge_temperature  587076 non-null  float64\n",
      " 1   temp_condition      587076 non-null  object \n",
      " 2   type                587076 non-null  object \n",
      "dtypes: float64(1), object(2)\n",
      "memory usage: 13.4+ MB\n",
      "None\n",
      "[0 1]\n",
      "[3 0 1 2 4 5 6]\n",
      "   fridge_temperature  temp_condition  type\n",
      "0               13.10               0     3\n",
      "1                8.65               0     3\n",
      "2                2.00               1     3\n",
      "3                4.80               1     3\n",
      "4               10.70               0     3\n",
      "5                5.00               1     3\n",
      "6               11.65               0     3\n",
      "7                3.00               1     3\n",
      "8                2.00               1     3\n",
      "9                6.95               0     3\n",
      "['normal', 'backdoor', 'ddos', 'injection', 'password', 'ransomware', 'xss']\n"
     ]
    }
   ],
   "source": [
    "df=pd.read_csv(r\"C:\\Users\\bindu\\Downloads\\IoT_Fridge.csv\")\n",
    "\n",
    "df.drop(['date','time','label'],axis=1,inplace=True)\n",
    "df['temp_condition']=df['temp_condition'].str.replace(\" \",\"\")\n",
    "\n",
    "#df['temp_condition']=df.temp_condition.map({'low':0,'high':1})\n",
    "#df=df.replace(to_replace=['low','high'],value=[0,1])\n",
    "print(df.info())\n",
    "\n",
    "label_encoder=preprocessing.LabelEncoder()\n",
    "df['temp_condition']= label_encoder.fit_transform(df['temp_condition'])\n",
    "  \n",
    "print(df['temp_condition'].unique())\n",
    "\n",
    "df['type']= label_encoder.fit_transform(df['type'])\n",
    "  \n",
    "print(df['type'].unique())\n",
    "\n",
    "print(df.head(10)) #It prints teh starting ten rows.\n",
    "print(list(label_encoder.inverse_transform([3,0,1,2,4,5,6])))"
   ]
  },
  {
   "cell_type": "code",
   "execution_count": 7,
   "id": "f0d8019a",
   "metadata": {},
   "outputs": [
    {
     "name": "stderr",
     "output_type": "stream",
     "text": [
      "C:\\Users\\bindu\\anaconda3\\lib\\site-packages\\sklearn\\utils\\validation.py:1111: DataConversionWarning: A column-vector y was passed when a 1d array was expected. Please change the shape of y to (n_samples, ), for example using ravel().\n",
      "  y = column_or_1d(y, warn=True)\n"
     ]
    },
    {
     "name": "stdout",
     "output_type": "stream",
     "text": [
      "Accuracy:  0.8521033595839271\n",
      "[[     0      0      0  10823      0      0      0]\n",
      " [     0      0      0   3094      0      0      0]\n",
      " [     0      0      0   2134      0      0      0]\n",
      " [     0      0      0 150075      0      0      0]\n",
      " [     0      0      0   8558      0      0      0]\n",
      " [     0      0      0    854      0      0      0]\n",
      " [     0      0      0    585      0      0      0]]\n"
     ]
    }
   ],
   "source": [
    "features=['fridge_temperature','temp_condition']\n",
    "x = df.loc[:,features]#input\n",
    "y = df.loc[:,['type']]#target\n",
    "x_train, x_test, y_train, y_test = train_test_split(x, y, random_state=42, train_size = .70)\n",
    "gnb=GaussianNB()\n",
    "model=gnb.fit(x_train,y_train)\n",
    "y_pred=model.predict(x_test)\n",
    "print(\"Accuracy: \",metrics.accuracy_score(y_test,y_pred))\n",
    "cm=np.array(confusion_matrix(y_test,y_pred))\n",
    "print(cm)"
   ]
  },
  {
   "cell_type": "code",
   "execution_count": 8,
   "id": "aed7b2c1",
   "metadata": {},
   "outputs": [
    {
     "name": "stdout",
     "output_type": "stream",
     "text": [
      "Accuracy:  0.8521033595839271\n",
      "Precision:  0.7260801354142155\n"
     ]
    },
    {
     "name": "stderr",
     "output_type": "stream",
     "text": [
      "C:\\Users\\bindu\\anaconda3\\lib\\site-packages\\sklearn\\metrics\\_classification.py:1334: UndefinedMetricWarning: Precision is ill-defined and being set to 0.0 in labels with no predicted samples. Use `zero_division` parameter to control this behavior.\n",
      "  _warn_prf(average, modifier, msg_start, len(result))\n"
     ]
    },
    {
     "name": "stdout",
     "output_type": "stream",
     "text": [
      "Recall:  0.8521033595839271\n",
      "F1score:  0.7840600597769323\n"
     ]
    }
   ],
   "source": [
    "print(\"Accuracy: \",accuracy_score(y_test,y_pred))\n",
    "print(\"Precision: \",precision_score(y_test,y_pred,average='weighted'))\n",
    "print(\"Recall: \",recall_score(y_test,y_pred,average='weighted'))\n",
    "print(\"F1score: \",f1_score(y_test,y_pred,average='weighted'))"
   ]
  },
  {
   "cell_type": "code",
   "execution_count": null,
   "id": "8a72dffe",
   "metadata": {},
   "outputs": [],
   "source": []
  }
 ],
 "metadata": {
  "kernelspec": {
   "display_name": "Python 3 (ipykernel)",
   "language": "python",
   "name": "python3"
  },
  "language_info": {
   "codemirror_mode": {
    "name": "ipython",
    "version": 3
   },
   "file_extension": ".py",
   "mimetype": "text/x-python",
   "name": "python",
   "nbconvert_exporter": "python",
   "pygments_lexer": "ipython3",
   "version": "3.9.12"
  }
 },
 "nbformat": 4,
 "nbformat_minor": 5
}
