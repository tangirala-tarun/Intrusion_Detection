{
 "cells": [
  {
   "cell_type": "code",
   "execution_count": 1,
   "id": "d2919f55",
   "metadata": {},
   "outputs": [],
   "source": [
    "import pandas as pd\n",
    "import numpy as np\n",
    "from sklearn.model_selection import train_test_split\n",
    "from sklearn.neural_network import MLPClassifier\n",
    "from sklearn import metrics\n",
    "from sklearn.metrics import confusion_matrix, accuracy_score, precision_score, recall_score, f1_score\n",
    "from sklearn import preprocessing"
   ]
  },
  {
   "cell_type": "code",
   "execution_count": 2,
   "id": "b8a1284c",
   "metadata": {},
   "outputs": [],
   "source": [
    "df=pd.read_csv(r\"C:\\Users\\bindu\\Downloads\\IoT_Fridge.csv\")\n",
    "\n",
    "df.drop(['date','time','label'],axis=1,inplace=True)\n",
    "df['temp_condition']=df['temp_condition'].str.replace(\" \",\"\")\n",
    "\n",
    "#df['temp_condition']=df.temp_condition.map({'low':0,'high':1})\n",
    "#df=df.replace(to_replace=['low','high'],value=[0,1])\n",
    "#print(df.info())\n",
    "\n",
    "label_encoder=preprocessing.LabelEncoder()\n",
    "df['temp_condition']= label_encoder.fit_transform(df['temp_condition'])\n",
    "  \n",
    "#print(df['temp_condition'].unique())\n",
    "\n",
    "df['type']= label_encoder.fit_transform(df['type'])\n",
    "  \n",
    "#print(df['type'].unique())\n",
    "\n",
    "# print(df.head(10)) #It prints teh starting ten rows.\n",
    "# print(list(label_encoder.inverse_transform([3,0,1,2,4,5,6])))"
   ]
  },
  {
   "cell_type": "code",
   "execution_count": 3,
   "id": "f0d8019a",
   "metadata": {},
   "outputs": [
    {
     "name": "stderr",
     "output_type": "stream",
     "text": [
      "C:\\Users\\bindu\\anaconda3\\lib\\site-packages\\sklearn\\neural_network\\_multilayer_perceptron.py:1118: DataConversionWarning: A column-vector y was passed when a 1d array was expected. Please change the shape of y to (n_samples, ), for example using ravel().\n",
      "  y = column_or_1d(y, warn=True)\n"
     ]
    }
   ],
   "source": [
    "features=['fridge_temperature','temp_condition']\n",
    "x = df.loc[:,features]#input\n",
    "y = df.loc[:,['type']]#target\n",
    "x_train, x_test, y_train, y_test = train_test_split(x, y, random_state=42, train_size = .70)\n",
    "model = MLPClassifier(max_iter=300, random_state=42)\n",
    "model.fit(x_train, y_train)\n",
    "y_pred=model.predict(x_test)\n",
    "# print(\"Accuracy: \",metrics.accuracy_score(y_test,y_pred))\n",
    "# cm=np.array(confusion_matrix(y_test,y_pred))\n",
    "# print(cm)"
   ]
  },
  {
   "cell_type": "code",
   "execution_count": 4,
   "id": "aed7b2c1",
   "metadata": {},
   "outputs": [
    {
     "name": "stdout",
     "output_type": "stream",
     "text": [
      "Accuracy:  0.8521033595839271\n",
      "Precision:  0.7260801354142155\n",
      "Recall:  0.8521033595839271\n",
      "F1score:  0.7840600597769323\n"
     ]
    },
    {
     "name": "stderr",
     "output_type": "stream",
     "text": [
      "C:\\Users\\bindu\\anaconda3\\lib\\site-packages\\sklearn\\metrics\\_classification.py:1334: UndefinedMetricWarning: Precision is ill-defined and being set to 0.0 in labels with no predicted samples. Use `zero_division` parameter to control this behavior.\n",
      "  _warn_prf(average, modifier, msg_start, len(result))\n"
     ]
    }
   ],
   "source": [
    "print(\"Accuracy: \",accuracy_score(y_test,y_pred))\n",
    "print(\"Precision: \",precision_score(y_test,y_pred,average='weighted'))\n",
    "print(\"Recall: \",recall_score(y_test,y_pred,average='weighted'))\n",
    "print(\"F1score: \",f1_score(y_test,y_pred,average='weighted'))"
   ]
  },
  {
   "cell_type": "code",
   "execution_count": null,
   "id": "8a72dffe",
   "metadata": {},
   "outputs": [],
   "source": []
  }
 ],
 "metadata": {
  "kernelspec": {
   "display_name": "Python 3 (ipykernel)",
   "language": "python",
   "name": "python3"
  },
  "language_info": {
   "codemirror_mode": {
    "name": "ipython",
    "version": 3
   },
   "file_extension": ".py",
   "mimetype": "text/x-python",
   "name": "python",
   "nbconvert_exporter": "python",
   "pygments_lexer": "ipython3",
   "version": "3.9.12"
  }
 },
 "nbformat": 4,
 "nbformat_minor": 5
}
